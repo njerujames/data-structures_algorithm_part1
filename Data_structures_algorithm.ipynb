{
 "cells": [
  {
   "cell_type": "code",
   "execution_count": 6,
   "metadata": {},
   "outputs": [],
   "source": [
    "# CHAPTER ONE\n",
    "\n",
    "# Functions\n",
    "\n",
    "def count(data, target):\n",
    "    n = 0\n",
    "    for item in data:\n",
    "        if item == target: # found a match\n",
    "            n += 1\n",
    "    return n"
   ]
  },
  {
   "cell_type": "code",
   "execution_count": 7,
   "metadata": {},
   "outputs": [
    {
     "data": {
      "text/plain": [
       "1"
      ]
     },
     "execution_count": 7,
     "metadata": {},
     "output_type": "execute_result"
    }
   ],
   "source": [
    "count([2,4,5,6,7],2)"
   ]
  },
  {
   "cell_type": "code",
   "execution_count": 8,
   "metadata": {},
   "outputs": [],
   "source": [
    "def contains(data, target):\n",
    "    for item in target:\n",
    "        if item == target: # found a match\n",
    "            return True\n",
    "    return False"
   ]
  },
  {
   "cell_type": "code",
   "execution_count": 9,
   "metadata": {},
   "outputs": [
    {
     "data": {
      "text/plain": [
       "False"
      ]
     },
     "execution_count": 9,
     "metadata": {},
     "output_type": "execute_result"
    }
   ],
   "source": [
    "contains([2,3,5,6],[4,5])"
   ]
  },
  {
   "cell_type": "code",
   "execution_count": 10,
   "metadata": {},
   "outputs": [
    {
     "ename": "SyntaxError",
     "evalue": "invalid syntax (<ipython-input-10-48841e35c6f5>, line 1)",
     "output_type": "error",
     "traceback": [
      "\u001b[1;36m  File \u001b[1;32m\"<ipython-input-10-48841e35c6f5>\"\u001b[1;36m, line \u001b[1;32m1\u001b[0m\n\u001b[1;33m    def compute_gpa(grades, points={ A+ :4.0, A :4.0, A- :3.67, B+ :3.33,B :3.0, B- :2.67, C+ :2.33, C :2.0,C :1.67, D+ :1.33, D :1.0, F :0.0}):\u001b[0m\n\u001b[1;37m                                        ^\u001b[0m\n\u001b[1;31mSyntaxError\u001b[0m\u001b[1;31m:\u001b[0m invalid syntax\n"
     ]
    }
   ],
   "source": [
    "def compute_gpa(grades, points={ A+ :4.0, A :4.0, A- :3.67, B+ :3.33,B :3.0, B- :2.67, C+ :2.33, C :2.0,C :1.67, D+ :1.33, D :1.0, F :0.0}):\n",
    "    \n",
    "    num courses = 0\n",
    "    total points = 0\n",
    "    for g in grades:\n",
    "        if g in points: # a recognizable grade\n",
    "            num courses += 1\n",
    "            total points += points[g]\n",
    "    return total points / num courses"
   ]
  },
  {
   "cell_type": "code",
   "execution_count": null,
   "metadata": {},
   "outputs": [],
   "source": [
    "# Files\n",
    "data = open('machine_learning.txt','w+')"
   ]
  },
  {
   "cell_type": "code",
   "execution_count": null,
   "metadata": {},
   "outputs": [],
   "source": [
    "data.write('My name is Jimmy and i am a data scientist')"
   ]
  },
  {
   "cell_type": "code",
   "execution_count": null,
   "metadata": {},
   "outputs": [],
   "source": [
    "data.close()"
   ]
  },
  {
   "cell_type": "code",
   "execution_count": null,
   "metadata": {},
   "outputs": [],
   "source": [
    "open_file = open('machine_learning.txt','r')"
   ]
  },
  {
   "cell_type": "code",
   "execution_count": null,
   "metadata": {},
   "outputs": [],
   "source": [
    "#'r'\tThis is the default mode. It Opens file for reading.\n",
    "# 'w'\tThis Mode Opens file for writing. \n",
    "# If file does not exist, it creates a new file.\n",
    "# If file exists it truncates the file.\n",
    "# 'x'\tCreates a new file. If file already exists, the operation fails.\n",
    "# 'a'\tOpen file in append mode. \n",
    "# If file does not exist, it creates a new file.\n",
    "# 't'\tThis is the default mode. It opens in text mode.\n",
    "# 'b'\tThis opens in binary mode.\n",
    "# '+'\tThis will open a file for reading and writing (updating)\n"
   ]
  },
  {
   "cell_type": "code",
   "execution_count": null,
   "metadata": {},
   "outputs": [],
   "source": [
    "data.close()"
   ]
  },
  {
   "cell_type": "code",
   "execution_count": null,
   "metadata": {},
   "outputs": [],
   "source": [
    "data = open('machine_learning.txt','r')"
   ]
  },
  {
   "cell_type": "code",
   "execution_count": null,
   "metadata": {},
   "outputs": [],
   "source": [
    "data.readlines()"
   ]
  },
  {
   "cell_type": "code",
   "execution_count": null,
   "metadata": {},
   "outputs": [],
   "source": [
    "# Raising an Exception\n",
    "def sum(values):\n",
    "    if not isinstance(values, collections.Iterable):\n",
    "        raise TypeError( parameter must be an iterable type )\n",
    "    total = 0\n",
    "    for v in values:\n",
    "        if not isinstance(v, (int, float)):\n",
    "            raise TypeError( elements must be numeric )\n",
    "        total = total+ v\n",
    "    return total"
   ]
  },
  {
   "cell_type": "code",
   "execution_count": null,
   "metadata": {},
   "outputs": [],
   "source": [
    "# Exception Handling\n",
    "age = -1 # an initially invalid choice\n",
    "while age <= 0:\n",
    "    try:\n",
    "        age = int(input(' Enter your age in years:' ))\n",
    "        if age <= 0:\n",
    "            print( 'our age must be positive')\n",
    "    except (ValueError, EOFError):\n",
    "        print( 'Invalid response' )"
   ]
  },
  {
   "cell_type": "code",
   "execution_count": null,
   "metadata": {},
   "outputs": [],
   "source": [
    "age = -1 # an initially invalid choice\n",
    "while age <= 0:\n",
    "    try:\n",
    "        age = int(input(' Enter your age in years:' ))\n",
    "        if age <= 0:\n",
    "            print( 'our age must be positive')\n",
    "    except (ValueError, EOFError):\n",
    "        print( 'Invalid response' )\n",
    "    except EOFError:\n",
    "        print( 'There was an unexpected error reading input.' )\n",
    "    raise # let s re-raise this exception"
   ]
  },
  {
   "cell_type": "code",
   "execution_count": null,
   "metadata": {},
   "outputs": [],
   "source": [
    "# Generators\n",
    "def factors(n): # generator that computes factors\n",
    "    for k in range(1,n+1):\n",
    "        if n % k == 0: # divides evenly, thus k is a factor\n",
    "            yield k # yield this factor as next result"
   ]
  },
  {
   "cell_type": "code",
   "execution_count": null,
   "metadata": {},
   "outputs": [],
   "source": [
    "list(factors(100))"
   ]
  },
  {
   "cell_type": "code",
   "execution_count": null,
   "metadata": {},
   "outputs": [],
   "source": [
    "# Comprehension\n",
    "# [ k k for k in range(1, n+1) ] list comprehension\n",
    "# { k k for k in range(1, n+1) } set comprehension\n",
    "# ( k k for k in range(1, n+1) ) generator comprehension\n",
    "# { k : k k for k in range(1, n+1) } dictionary comprehension\n"
   ]
  },
  {
   "cell_type": "code",
   "execution_count": null,
   "metadata": {},
   "outputs": [],
   "source": [
    "[ k *k for k in range(10) ] "
   ]
  },
  {
   "cell_type": "code",
   "execution_count": null,
   "metadata": {},
   "outputs": [],
   "source": [
    "{ k *k for k in range(10) }"
   ]
  },
  {
   "cell_type": "code",
   "execution_count": null,
   "metadata": {},
   "outputs": [],
   "source": [
    "( k *k for k in range(10) )"
   ]
  },
  {
   "cell_type": "code",
   "execution_count": null,
   "metadata": {},
   "outputs": [],
   "source": [
    "{k: k *k for k in range(10)}"
   ]
  },
  {
   "cell_type": "code",
   "execution_count": null,
   "metadata": {
    "scrolled": true
   },
   "outputs": [],
   "source": [
    "# Packing and Unpacking of Sequences\n",
    "a, b, c, d = range(7, 11)\n",
    "a\n",
    "b\n",
    "c\n",
    "d"
   ]
  },
  {
   "cell_type": "code",
   "execution_count": null,
   "metadata": {},
   "outputs": [],
   "source": [
    "for x, y in [ (7, 2), (5, 8), (6, 4) ]:\n",
    "    print(x,y)"
   ]
  },
  {
   "cell_type": "code",
   "execution_count": 56,
   "metadata": {},
   "outputs": [
    {
     "data": {
      "text/plain": [
       "False"
      ]
     },
     "execution_count": 56,
     "metadata": {},
     "output_type": "execute_result"
    }
   ],
   "source": [
    "# Exercises: Reinforecements\n",
    "\n",
    "# R-1.1 Write a short Python function, is multiple(n, m), that takes two integer\n",
    "# values and returns True if n is a multiple of m, that is, n = mi for someinteger i, and False otherwise.\n",
    "def multiple(n, m):\n",
    "    if n % m == 0:\n",
    "        return True\n",
    "    else:\n",
    "        return False\n",
    "multiple(10,3)"
   ]
  },
  {
   "cell_type": "code",
   "execution_count": 57,
   "metadata": {},
   "outputs": [
    {
     "data": {
      "text/plain": [
       "False"
      ]
     },
     "execution_count": 57,
     "metadata": {},
     "output_type": "execute_result"
    }
   ],
   "source": [
    "# R-1.2 Write a short Python function, is even(k), that takes an integer value and\n",
    "# returns True if k is even, and False otherwise. However, your function\n",
    "# cannot use the multiplication, modulo, or division operators.\n",
    "def is_even(k):\n",
    "    if k % 2 == 0:\n",
    "        return True\n",
    "    else:\n",
    "        return False\n",
    "    \n",
    "is_even(1)"
   ]
  },
  {
   "cell_type": "code",
   "execution_count": null,
   "metadata": {},
   "outputs": [],
   "source": [
    "# R-1.3 Write a short Python function, minmax(data), that takes a sequence of\n",
    "# one or more numbers, and returns the smallest and largest numbers, in the\n",
    "# form of a tuple of length two. Do not use the built-in functions min or\n",
    "# # max in implementing your solution.\n",
    "# def minmax(data):\n",
    "#     max_min = ()\n",
    "#     for number in data:\n",
    "#         if number \n",
    "        "
   ]
  },
  {
   "cell_type": "code",
   "execution_count": null,
   "metadata": {},
   "outputs": [],
   "source": [
    "# R-1.4 Write a short Python function that takes a positive integer n and returns\n",
    "# the sum of the squares of all the positive integers smaller than n.\n",
    "def sum_positive(n):\n",
    "    squares = [ ]\n",
    "    for k in range(1, n+1):\n",
    "        squares.append(k * k)\n",
    "    return squares\n",
    "\n",
    "sum_positive(5)\n",
    "            \n",
    "    "
   ]
  },
  {
   "cell_type": "code",
   "execution_count": null,
   "metadata": {},
   "outputs": [],
   "source": [
    "# R-1.5 Give a single command that computes the sum from Exercise R-1.4, relying\n",
    "# on Python’s comprehension syntax and the built-in sum function.\n",
    "squares = [k **2  for k in range(1, 6) ]\n",
    "squares"
   ]
  },
  {
   "cell_type": "code",
   "execution_count": null,
   "metadata": {},
   "outputs": [],
   "source": [
    "# R-1.6 Write a short Python function that takes a positive integer n and returns\n",
    "# the sum of the squares of all the odd positive integers smaller than n.\n",
    "def sum_odd(n):\n",
    "    squares = []\n",
    "   \n",
    "    for x in range(1,n + 1):\n",
    "        if x % 2 != 0:\n",
    "            squares.append(x * x)\n",
    "    return squares\n",
    "sum_odd(4)"
   ]
  },
  {
   "cell_type": "code",
   "execution_count": null,
   "metadata": {},
   "outputs": [],
   "source": [
    "# R-1.7 Give a single command that computes the sum from Exercise R-1.6, relying\n",
    "# on Python’s comprehension syntax and the built-in sum function.\n",
    "squares = [x * x for x in range(1,5) if  x % 2 != 0]\n",
    "squares"
   ]
  },
  {
   "cell_type": "code",
   "execution_count": 11,
   "metadata": {},
   "outputs": [],
   "source": [
    "#R-1.8 Python allows negative integers to be used as indices into a sequence,\n",
    "# such as a string. If string s has length n, and expression s[k] is used for index\n",
    "# −n≤k<0, what is the equivalent index j ≥0 such that s[j] references\n",
    "# the same element?\n"
   ]
  },
  {
   "cell_type": "code",
   "execution_count": 16,
   "metadata": {},
   "outputs": [
    {
     "name": "stdout",
     "output_type": "stream",
     "text": [
      "50\n",
      "60\n",
      "70\n",
      "80\n"
     ]
    }
   ],
   "source": [
    "# R-1.9 What parameters should be sent to the range constructor, to produce a\n",
    "# range with values 50, 60, 70, 80?\n",
    "for i in range(50,90,10):\n",
    "    print(i)"
   ]
  },
  {
   "cell_type": "code",
   "execution_count": 17,
   "metadata": {},
   "outputs": [
    {
     "name": "stdout",
     "output_type": "stream",
     "text": [
      "8\n",
      "6\n",
      "4\n",
      "2\n",
      "0\n",
      "-2\n",
      "-4\n",
      "-6\n",
      "-8\n"
     ]
    }
   ],
   "source": [
    "# R-1.10 What parameters should be sent to the range constructor, to produce a\n",
    "# range with values 8, 6, 4, 2, 0, −2, −4, −6, −8?\n",
    "for i in range(8,-9,-2):\n",
    "    print(i)"
   ]
  },
  {
   "cell_type": "code",
   "execution_count": 44,
   "metadata": {},
   "outputs": [
    {
     "data": {
      "text/plain": [
       "[1, 2, 4, 8, 16, 32, 64, 128, 256]"
      ]
     },
     "execution_count": 44,
     "metadata": {},
     "output_type": "execute_result"
    }
   ],
   "source": [
    "# Demonstrate how to use Python’s list comprehension syntax to produce\n",
    "# the list [1, 2, 4, 8, 16, 32, 64, 128, 256].\n",
    "[2 ** i for i in range(9)]"
   ]
  },
  {
   "cell_type": "code",
   "execution_count": 61,
   "metadata": {},
   "outputs": [
    {
     "data": {
      "text/plain": [
       "8"
      ]
     },
     "execution_count": 61,
     "metadata": {},
     "output_type": "execute_result"
    }
   ],
   "source": [
    "# R-1.12 Python’s random module includes a function choice(data) that returns a\n",
    "# random element from a non-empty sequence. The random module includes\n",
    "# a more basic function randrange, with parameterization similar to\n",
    "# the built-in range function, that return a random choice from the given\n",
    "# range. Using only the randrange function, implement your own version\n",
    "# of the choice function.\n",
    "import random\n",
    "string_name = 'Jimmy Njeru'\n",
    "random.choice(string_name)\n",
    "random.randrange(len(string_name))"
   ]
  },
  {
   "cell_type": "code",
   "execution_count": null,
   "metadata": {},
   "outputs": [],
   "source": []
  },
  {
   "cell_type": "code",
   "execution_count": null,
   "metadata": {},
   "outputs": [],
   "source": []
  }
 ],
 "metadata": {
  "kernelspec": {
   "display_name": "Python 3",
   "language": "python",
   "name": "python3"
  },
  "language_info": {
   "codemirror_mode": {
    "name": "ipython",
    "version": 3
   },
   "file_extension": ".py",
   "mimetype": "text/x-python",
   "name": "python",
   "nbconvert_exporter": "python",
   "pygments_lexer": "ipython3",
   "version": "3.7.1"
  }
 },
 "nbformat": 4,
 "nbformat_minor": 2
}
